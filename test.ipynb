{
 "cells": [
  {
   "cell_type": "code",
   "execution_count": 4,
   "metadata": {},
   "outputs": [],
   "source": [
    "from openai import OpenAI\n",
    "from config.config import OPENAI_API_KEY"
   ]
  },
  {
   "cell_type": "code",
   "execution_count": 5,
   "metadata": {},
   "outputs": [],
   "source": [
    "LLM = OpenAI(api_key=OPENAI_API_KEY)"
   ]
  },
  {
   "cell_type": "code",
   "execution_count": 16,
   "metadata": {},
   "outputs": [
    {
     "name": "stdout",
     "output_type": "stream",
     "text": [
      "Spam refers to unsolicited messages, often sent in bulk, primarily through email.  \n",
      "It can include advertising, scams, or malicious content, disrupting communication flow.  \n",
      "Spam filters help manage unwanted messages, improving user experience and security.  \n"
     ]
    }
   ],
   "source": [
    "response = LLM.chat.completions.create(model='gpt-4o-mini',\n",
    "                                       messages = [\n",
    "                                           {\"role\": \"system\", \"content\": \"You are a helpful chatbot.\"},\n",
    "                                           {\"role\": \"user\", \"content\": \"Tell me about spam in 50 tokens, with lines 80 characters long\"}\n",
    "                                       ])\n",
    "print(response.choices[0].message.content)\n"
   ]
  },
  {
   "cell_type": "code",
   "execution_count": null,
   "metadata": {},
   "outputs": [],
   "source": []
  }
 ],
 "metadata": {
  "kernelspec": {
   "display_name": "Python 3 (ipykernel)",
   "language": "python",
   "name": "python3"
  },
  "language_info": {
   "codemirror_mode": {
    "name": "ipython",
    "version": 3
   },
   "file_extension": ".py",
   "mimetype": "text/x-python",
   "name": "python",
   "nbconvert_exporter": "python",
   "pygments_lexer": "ipython3",
   "version": "3.9.6"
  }
 },
 "nbformat": 4,
 "nbformat_minor": 4
}
